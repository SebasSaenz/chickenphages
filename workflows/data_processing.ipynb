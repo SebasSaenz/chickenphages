{
 "cells": [
  {
   "cell_type": "markdown",
   "id": "e001baea-c4c8-41e0-8c04-36e171deb55b",
   "metadata": {},
   "source": [
    "# Metagenomics workflow"
   ]
  },
  {
   "cell_type": "markdown",
   "id": "ef878e36-cb6f-4647-bd4c-a1cfe8450fe7",
   "metadata": {},
   "source": [
    "Describe project"
   ]
  },
  {
   "cell_type": "markdown",
   "id": "ed05f8ad",
   "metadata": {},
   "source": [
    "## 1. Download data"
   ]
  },
  {
   "cell_type": "code",
   "execution_count": null,
   "id": "f87a212b-1ca7-4536-a5af-c25927a79e91",
   "metadata": {},
   "outputs": [],
   "source": []
  },
  {
   "cell_type": "markdown",
   "id": "5f774ee8-3c60-41df-b945-f09e0b18eee0",
   "metadata": {},
   "source": [
    "## 2. Cleaning"
   ]
  },
  {
   "cell_type": "code",
   "execution_count": null,
   "id": "9281c1d8-1e50-4ad5-858d-a4e43e05202a",
   "metadata": {},
   "outputs": [],
   "source": []
  },
  {
   "cell_type": "markdown",
   "id": "e6f9fd42-f283-455f-836c-d44166cb0cb6",
   "metadata": {},
   "source": [
    "## 3. DNA host remove"
   ]
  },
  {
   "cell_type": "code",
   "execution_count": null,
   "id": "60632da5-d777-4c85-9449-815a9bf6c06b",
   "metadata": {},
   "outputs": [],
   "source": []
  },
  {
   "cell_type": "markdown",
   "id": "f35c8ea1-7f14-498d-aaa9-7b2228a28400",
   "metadata": {},
   "source": [
    "## 4 Assembly"
   ]
  },
  {
   "cell_type": "code",
   "execution_count": null,
   "id": "d468803d-48bd-40d5-a2a8-62bcac40ac60",
   "metadata": {},
   "outputs": [],
   "source": []
  }
 ],
 "metadata": {
  "kernelspec": {
   "display_name": "Python 3 (ipykernel)",
   "language": "python",
   "name": "python3"
  },
  "language_info": {
   "codemirror_mode": {
    "name": "ipython",
    "version": 3
   },
   "file_extension": ".py",
   "mimetype": "text/x-python",
   "name": "python",
   "nbconvert_exporter": "python",
   "pygments_lexer": "ipython3",
   "version": "3.10.12"
  }
 },
 "nbformat": 4,
 "nbformat_minor": 5
}
